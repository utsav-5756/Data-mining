{
 "cells": [
  {
   "cell_type": "markdown",
   "metadata": {},
   "source": [
    "Homework 4, CS 641     Utsav Shaileshkumar Chokshi"
   ]
  },
  {
   "cell_type": "markdown",
   "metadata": {},
   "source": [
    "First, import data from the file named mnist23.data. Place the file in the running directory of jupyter notebook for simplicity "
   ]
  },
  {
   "cell_type": "code",
   "execution_count": 1,
   "metadata": {
    "collapsed": true
   },
   "outputs": [],
   "source": [
    "import cloudpickle as pickle\n",
    "mnist23 = pickle.load( open( \"mnist23.data\", \"rb\" ) )"
   ]
  },
  {
   "cell_type": "markdown",
   "metadata": {},
   "source": [
    "then run the following code to view the data"
   ]
  },
  {
   "cell_type": "code",
   "execution_count": 2,
   "metadata": {},
   "outputs": [
    {
     "data": {
      "image/png": "[encoded data removed]",
      "text/plain": [
       "<matplotlib.figure.Figure at 0x20430d024a8>"
      ]
     },
     "metadata": {},
     "output_type": "display_data"
    }
   ],
   "source": [
    "import numpy as np\n",
    "import matplotlib.pyplot as plt\n",
    "%matplotlib inline\n",
    "\n",
    "plt.figure(figsize=(20,4))\n",
    "for index, (image, label) in enumerate(zip(mnist23.data[500:505], mnist23.target[500:505])):\n",
    "    plt.subplot(1, 5, index + 1)\n",
    "    plt.imshow(np.reshape(image, (28,28)), cmap=plt.cm.gray)\n",
    "    plt.title('Training: %i\\n' % label, fontsize = 20)"
   ]
  },
  {
   "cell_type": "markdown",
   "metadata": {},
   "source": [
    "mnist23 consists of more than ten thousands images of 2s and 3s. You can view the data as follows:"
   ]
  },
  {
   "cell_type": "code",
   "execution_count": 3,
   "metadata": {},
   "outputs": [
    {
     "data": {
      "text/plain": [
       "({'COL_NAMES': ['label', 'data'],\n",
       "  'DESCR': 'mnist23: mnist data 2 and 3',\n",
       "  'data': array([[0, 0, 0, ..., 0, 0, 0],\n",
       "         [0, 0, 0, ..., 0, 0, 0],\n",
       "         [0, 0, 0, ..., 0, 0, 0],\n",
       "         ..., \n",
       "         [0, 0, 0, ..., 0, 0, 0],\n",
       "         [0, 0, 0, ..., 0, 0, 0],\n",
       "         [0, 0, 0, ..., 0, 0, 0]], dtype=uint8),\n",
       "  'target': array([ 2.,  2.,  3., ...,  3.,  2.,  3.])},\n",
       " array([[0, 0, 0, ..., 0, 0, 0],\n",
       "        [0, 0, 0, ..., 0, 0, 0],\n",
       "        [0, 0, 0, ..., 0, 0, 0],\n",
       "        ..., \n",
       "        [0, 0, 0, ..., 0, 0, 0],\n",
       "        [0, 0, 0, ..., 0, 0, 0],\n",
       "        [0, 0, 0, ..., 0, 0, 0]], dtype=uint8),\n",
       " array([ 2.,  2.,  3., ...,  3.,  2.,  3.]),\n",
       " (12111, 784))"
      ]
     },
     "execution_count": 3,
     "metadata": {},
     "output_type": "execute_result"
    }
   ],
   "source": [
    "mnist23,mnist23.data, mnist23.target, mnist23.data.shape\n"
   ]
  },
  {
   "cell_type": "code",
   "execution_count": 4,
   "metadata": {},
   "outputs": [
    {
     "data": {
      "text/plain": [
       "((12111, 784), (12111,))"
      ]
     },
     "execution_count": 4,
     "metadata": {},
     "output_type": "execute_result"
    }
   ],
   "source": [
    "mnist23.data.shape, mnist23.target.shape\n"
   ]
  },
  {
   "cell_type": "markdown",
   "metadata": {},
   "source": [
    "In this homework, you are asked to implement your own binary classifier in jupyter notebook to classify the image. Each image is a 28 by 28 image, which is a row of the above numpy ndarray. So you need to reshape it to 8 by 8 to view an image. Implement in the following. You may want to create a python class for your classifier, with train, validate, predict and some other functions"
   ]
  },
  {
   "cell_type": "code",
   "execution_count": 9,
   "metadata": {
    "collapsed": true
   },
   "outputs": [],
   "source": [
    "from sklearn import decomposition\n",
    "class own_classifier():                                  #This is the classifier class which will train the model and predict the class for test data\n",
    "    \n",
    "    def reduction(self,data_to_reduce):                  #This function is used to reduce the data to the user-defined dimension\n",
    "        pca = decomposition.PCA(n_components=16, whiten=True)   #Applying PCA \n",
    "        pca.fit(data_to_reduce)\n",
    "        reduced_data = pca.transform(data_to_reduce)            #The transformed data after application of PCA\n",
    "        return reduced_data\n",
    "    \n",
    "    def train(self,training_data):                      #This function is used to train the model using the given data\n",
    "        \n",
    "        mnist23_pca = own_classifier.reduction(self,training_data)     #Reducing the training data using PCA\n",
    "        var2 = 0\n",
    "        var3 = 0\n",
    "        data_for_2 = []\n",
    "        data_for_3 = [] \n",
    "\n",
    "        for k in range(training_data.shape[0]):                                         #Separating the class-2 and class-3 data\n",
    "            if mnist23.target[k] == 2:\n",
    "                var2 = var2 + 1\n",
    "                data_for_2.append(mnist23_pca[k])\n",
    "            else:\n",
    "                var3 = var3 + 1 \n",
    "                data_for_3.append(mnist23_pca[k])\n",
    "\n",
    "        mean_class_2 = np.mean(data_for_2,axis=0)                      #Finding the mean for class-2 data that will be used in LDA\n",
    "        mean_class_3 = np.mean(data_for_3,axis=0)                      #Finding the mean for class-3 data that will be used in LDA\n",
    "        cov = np.cov(mnist23_pca.T)\n",
    "        invcov = np.linalg.inv(cov)                                    #Finding the inverse of the covariance \n",
    "        co= 2*np.dot(mean_class_3 - mean_class_2,invcov)               #Finding the coeifficients for the decision boundary\n",
    "        const =  -2*np.log(var2/var3)+np.dot(np.dot(mean_class_2,invcov),mean_class_2.T) - np.dot(np.dot(mean_class_3,invcov),mean_class_3.T)\n",
    "        return co,const                                                #Returning the coeifficients and the constant value\n",
    "        \n",
    "    def predict(self, coe, cons, test_data):                             #This function predicts the class for the test data\n",
    "        reduced_test_data = own_classifier.reduction(self,test_data)   #Reduces the test data to predict the class\n",
    "        decision_boundary_output = []\n",
    "        predict_data = []\n",
    "        for x in range(reduced_test_data.shape[0]):\n",
    "            output = []\n",
    "            for k in range(reduced_test_data.shape[1]):\n",
    "                result = coe[k]*reduced_test_data[x][k] + cons         #Predict's the class using the decision boundary\n",
    "                output.append(result)\n",
    "            if sum(output) > 0:                                        #If value of test data in decision boundary is positive than data belongs to class-3\n",
    "                predicted_class = 3\n",
    "                predict_data.append(predicted_class)\n",
    "            elif sum(output) < 0:                                      #If value of test data in decision boundary is negative than data belongs to class-2\n",
    "                predicted_class = 2\n",
    "                predict_data.append(predicted_class)\n",
    "        return predict_data                                            #Returns the predicted class list\n",
    "    \n",
    "   \n",
    "        \n",
    "tt = own_classifier()                                                  #Creates an object of the class classifier\n",
    "\n",
    "coeifficient, constant = tt.train(mnist23.data)                        #Trains the model and returnes the coeifficients and constant to use while predicting\n",
    "\n",
    "\n"
   ]
  },
  {
   "cell_type": "markdown",
   "metadata": {},
   "source": [
    "Then, in the following, write a separate function so that when new test data is given, then accuracy can be computed. The function will take the test images (in a matrix of shape (x, 784)), and their labels (in a ndarray of shape(x,), and other parameters as you see fit. The test images are not given to you. \n",
    "Your numeric grade for the howework will be no more than the percentage of the accuracy of your classifier.  "
   ]
  },
  {
   "cell_type": "code",
   "execution_count": 10,
   "metadata": {},
   "outputs": [
    {
     "name": "stdout",
     "output_type": "stream",
     "text": [
      "Accuracy is 94.625 %\n"
     ]
    }
   ],
   "source": [
    "def accuracy(coeifficient,constant,test_data,original_class):       #This function finds the accuracy of the classifier\n",
    "    y = tt.predict(coeifficient, constant, test_data)               #Calls the predict function and stores the predicted class\n",
    "    count = 0\n",
    "    for k in range(original_class.shape[0]):\n",
    "        if y[k] == original_class[k]:\n",
    "            count = count + 1                                       #Counts the correct classified data\n",
    "    acc = (count/original_class.shape[0])*100                       #Calculates the accuracy\n",
    "    return acc                                                      #Returns the accuracy\n",
    "\n",
    "\n",
    "#Enter the test data and their labels as 3rd and 4th parameters respectively of the accuracy function, which is called below.\n",
    "\n",
    "\n",
    "final = accuracy(coeifficient,constant,mnist23.data[5000:9000],mnist23.target[5000:9000])    #Finds the accuracy of the test data\n",
    "print(\"Accuracy is\",final,\"%\")                                                              #Prints the accuracy of the test data"
   ]
  },
  {
   "cell_type": "code",
   "execution_count": null,
   "metadata": {
    "collapsed": true
   },
   "outputs": [],
   "source": []
  }
 ],
 "metadata": {
  "kernelspec": {
   "display_name": "Python 3",
   "language": "python",
   "name": "python3"
  },
  "language_info": {
   "codemirror_mode": {
    "name": "ipython",
    "version": 3
   },
   "file_extension": ".py",
   "mimetype": "text/x-python",
   "name": "python",
   "nbconvert_exporter": "python",
   "pygments_lexer": "ipython3",
   "version": "3.6.3"
  }
 },
 "nbformat": 4,
 "nbformat_minor": 2
}
